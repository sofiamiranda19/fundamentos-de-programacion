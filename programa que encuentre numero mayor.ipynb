{
  "nbformat": 4,
  "nbformat_minor": 0,
  "metadata": {
    "colab": {
      "provenance": [],
      "authorship_tag": "ABX9TyOVrZplvzY93R9CK8Kk7YDE",
      "include_colab_link": true
    },
    "kernelspec": {
      "name": "python3",
      "display_name": "Python 3"
    },
    "language_info": {
      "name": "python"
    }
  },
  "cells": [
    {
      "cell_type": "markdown",
      "metadata": {
        "id": "view-in-github",
        "colab_type": "text"
      },
      "source": [
        "<a href=\"https://colab.research.google.com/github/sofiamiranda19/fundamentos-de-programacion/blob/main/programa%20que%20encuentre%20numero%20mayor.ipynb\" target=\"_parent\"><img src=\"https://colab.research.google.com/assets/colab-badge.svg\" alt=\"Open In Colab\"/></a>"
      ]
    },
    {
      "cell_type": "code",
      "execution_count": null,
      "metadata": {
        "id": "43TuKLdZO6Su"
      },
      "outputs": [],
      "source": []
    },
    {
      "cell_type": "markdown",
      "source": [
        "FUNDAMENTOS DE PROGRAMACION programa que encuentra entre dos numeros diferentes el mayor"
      ],
      "metadata": {
        "id": "COd_sPB5O-B8"
      }
    },
    {
      "cell_type": "code",
      "source": [
        "# Leer los datos\n",
        "Num1 = 0\n",
        "Num2 = 0\n",
        "Num1 = int(input(\"Ingrese el primer numero: \"))\n",
        "Num2 = int(input(\"Ingrese el segundo numero: \"))\n",
        "# Condicionar el resultado\n",
        "if Num1 > Num2:\n",
        "    print(\"El numero mayor es: \", Num1)\n",
        "else:\n",
        "   # Limpiar los datos\n",
        "    print(\"El numero mayor es: \", Num2)\n",
        "\n"
      ],
      "metadata": {
        "colab": {
          "base_uri": "https://localhost:8080/"
        },
        "id": "MMa3luNiPMUM",
        "outputId": "4b2aae6b-9662-4e5b-dea1-85271d6771d1"
      },
      "execution_count": 6,
      "outputs": [
        {
          "output_type": "stream",
          "name": "stdout",
          "text": [
            "Ingrese el primer numero: 6\n",
            "Ingrese el segundo numero: 4\n",
            "El numero mayor es:  6\n"
          ]
        }
      ]
    },
    {
      "cell_type": "code",
      "source": [
        "# Leer los datos\n",
        "Num1 = input(\"Ingrese el primer numero: \")\n",
        "Num2 = input(\"Ingrese el segundo numero: \")\n",
        "# Condicionar el resultado\n",
        "if Num1 > Num2:\n",
        "    print(\"El numero mayor es: \", Num1)\n",
        "else:\n",
        "    # Imprimir el resultado\n",
        "    print(\"El numero mayor es: \", Num2)"
      ],
      "metadata": {
        "colab": {
          "base_uri": "https://localhost:8080/"
        },
        "id": "Z5stUF3lRYMj",
        "outputId": "67908035-dc78-4bcd-d960-71c2f1d3b8bf"
      },
      "execution_count": 7,
      "outputs": [
        {
          "output_type": "stream",
          "name": "stdout",
          "text": [
            "Ingrese el primer numero: 5\n",
            "Ingrese el segundo numero: 3\n",
            "El numero mayor es:  5\n"
          ]
        }
      ]
    }
  ]
}