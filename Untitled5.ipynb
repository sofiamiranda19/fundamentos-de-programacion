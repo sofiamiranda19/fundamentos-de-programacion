{
  "nbformat": 4,
  "nbformat_minor": 0,
  "metadata": {
    "colab": {
      "provenance": [],
      "authorship_tag": "ABX9TyNZMybGmqmhoD5HZGfpUqum",
      "include_colab_link": true
    },
    "kernelspec": {
      "name": "python3",
      "display_name": "Python 3"
    },
    "language_info": {
      "name": "python"
    }
  },
  "cells": [
    {
      "cell_type": "markdown",
      "metadata": {
        "id": "view-in-github",
        "colab_type": "text"
      },
      "source": [
        "<a href=\"https://colab.research.google.com/github/sofiamiranda19/fundamentos-de-programacion/blob/main/Untitled5.ipynb\" target=\"_parent\"><img src=\"https://colab.research.google.com/assets/colab-badge.svg\" alt=\"Open In Colab\"/></a>"
      ]
    },
    {
      "cell_type": "code",
      "source": [
        "# LEER DATOS\n",
        "descuento_lacteos= 0.30\n",
        "descuentos_electronicos=0.50\n",
        "descuento_papeleria=0.80\n",
        "#variables de precios\n",
        "precio_electronicos=float(input(\"ingrese el precio de los electronicos:\"))\n",
        "precio_lacteos=float(input(\"ingrese el precio de los lacteos:\"))\n",
        "precio_papeleria=float(input(\"ingrese el precio de la papeleria:\"))\n",
        "#calcular el descuento\n",
        "descuento_lacteos=precio_lacteos*descuento_lacteos\n",
        "descuento_electronicos=precio_electronicos*descuentos_electronicos\n",
        "descuento_papeleria=precio_papeleria*descuento_papeleria\n",
        "#imprimimos datos obetenidos\n",
        "print(\"el descuento de los lacteos es:\",descuento_lacteos)\n",
        "print(\"el descuento de los electronicos es:\",descuento_electronicos)\n",
        "print(\"el descuento de la papeleria es:\",descuento_papeleria)"
      ],
      "metadata": {
        "colab": {
          "base_uri": "https://localhost:8080/"
        },
        "id": "LoGzjs301h2G",
        "outputId": "4ebc9b2a-16e3-48a9-d6de-e85f9efec88a"
      },
      "execution_count": 4,
      "outputs": [
        {
          "output_type": "stream",
          "name": "stdout",
          "text": [
            "ingrese el precio de los electronicos:2500\n",
            "ingrese el precio de los lacteos:600\n",
            "ingrese el precio de la papeleria:800\n",
            "el descuento de los lacteos es: 180.0\n",
            "el descuento de los electronicos es: 1250.0\n",
            "el descuento de la papeleria es: 640.0\n"
          ]
        }
      ]
    }
  ]
}