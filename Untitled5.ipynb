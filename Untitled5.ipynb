{
  "nbformat": 4,
  "nbformat_minor": 0,
  "metadata": {
    "colab": {
      "provenance": [],
      "authorship_tag": "ABX9TyMSvkMmTlhTpMdjy2AcYevd",
      "include_colab_link": true
    },
    "kernelspec": {
      "name": "python3",
      "display_name": "Python 3"
    },
    "language_info": {
      "name": "python"
    }
  },
  "cells": [
    {
      "cell_type": "markdown",
      "metadata": {
        "id": "view-in-github",
        "colab_type": "text"
      },
      "source": [
        "<a href=\"https://colab.research.google.com/github/sofiamiranda19/fundamentos-de-programacion/blob/main/Untitled5.ipynb\" target=\"_parent\"><img src=\"https://colab.research.google.com/assets/colab-badge.svg\" alt=\"Open In Colab\"/></a>"
      ]
    },
    {
      "cell_type": "code",
      "execution_count": null,
      "metadata": {
        "id": "fxhASBSOAY_X"
      },
      "outputs": [],
      "source": []
    },
    {
      "cell_type": "markdown",
      "source": [
        "PROGRAMA QUE REALICE UN ALGORITMO QUE DETERMINE SI ES ADMITIDO O RECHAZADO DE ACUERDO AL NIVEL DE INGLES Y EL PROMEDIO"
      ],
      "metadata": {
        "id": "DF4YMh5BEAr8"
      }
    },
    {
      "cell_type": "code",
      "source": [],
      "metadata": {
        "id": "s_AbjTAoHbtR"
      },
      "execution_count": null,
      "outputs": []
    },
    {
      "cell_type": "code",
      "source": [
        "N1=int(input(\"Ingrese su nivel de ingles 1=A1,2=A2,3=B1,4=B2,5=C1 \"))\n",
        "Prom=float(input(\"Ingrese su promedio de calificaciones \"))\n",
        "if N1>=3 and Prom>=8.0:\n",
        "  print(\"Usted es admitido\")\n",
        "else:\n",
        "  if Prom<8.0:\n",
        "    print(\"RECHAZADO:Usted no tiene el promedio suficiente\")\n",
        "  if N1<3:\n",
        "    print(\"RECHAZADO:Usted no tiene el nivel de ingles suficiente\")\n",
        "elif\n",
        "\n"
      ],
      "metadata": {
        "id": "SSeumtGTEYQi",
        "colab": {
          "base_uri": "https://localhost:8080/"
        },
        "outputId": "29f4dcfe-d4d4-480a-dee3-d74ce13dc0c8"
      },
      "execution_count": 3,
      "outputs": [
        {
          "output_type": "stream",
          "name": "stdout",
          "text": [
            "Ingrese su nivel de ingles 1=A1,2=A2,3=B1,4=B2,5=C1 1\n",
            "Ingrese su promedio de calificaciones 9.5\n",
            "Usted es rechazado\n"
          ]
        }
      ]
    }
  ]
}