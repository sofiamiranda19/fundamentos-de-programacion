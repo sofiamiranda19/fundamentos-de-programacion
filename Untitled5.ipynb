{
  "nbformat": 4,
  "nbformat_minor": 0,
  "metadata": {
    "colab": {
      "provenance": [],
      "authorship_tag": "ABX9TyN3Wlp2skYLJlelWDlTmo9F",
      "include_colab_link": true
    },
    "kernelspec": {
      "name": "python3",
      "display_name": "Python 3"
    },
    "language_info": {
      "name": "python"
    }
  },
  "cells": [
    {
      "cell_type": "markdown",
      "metadata": {
        "id": "view-in-github",
        "colab_type": "text"
      },
      "source": [
        "<a href=\"https://colab.research.google.com/github/sofiamiranda19/fundamentos-de-programacion/blob/main/Untitled5.ipynb\" target=\"_parent\"><img src=\"https://colab.research.google.com/assets/colab-badge.svg\" alt=\"Open In Colab\"/></a>"
      ]
    },
    {
      "cell_type": "code",
      "execution_count": null,
      "metadata": {
        "id": "fxhASBSOAY_X"
      },
      "outputs": [],
      "source": []
    },
    {
      "cell_type": "code",
      "metadata": {
        "colab": {
          "base_uri": "https://localhost:8080/"
        },
        "id": "ed85efe5",
        "outputId": "e60ea01f-3d45-4a60-f263-3aa8f64ced8b"
      },
      "source": [
        "n1 = float(input(\"introduzca el primer numero: \"))\n",
        "n2 = float(input(\"introduzca el segundo numero: \"))\n",
        "operacion = str(input(\"introduzca la operacion a realizar (*,/,+,-): \"))\n",
        "\n",
        "match operacion:\n",
        "  case \"+\":\n",
        "    R = n1 + n2\n",
        "    print(f\"El resultado de la suma es: {R}\")\n",
        "  case \"-\":\n",
        "    R = n1 - n2\n",
        "    print(f\"El resultado de la resta es: {R}\")\n",
        "  case \"*\":\n",
        "    R = n1 * n2\n",
        "    print(f\"El resultado de la multiplicacion es: {R}\")\n",
        "  case \"/\":\n",
        "    if n2 != 0:\n",
        "      R = n1 / n2\n",
        "      print(f\"El resultado de la division es: {R}\")\n",
        "    else:\n",
        "      print(\"No se puede dividir por cero.\")\n",
        "  case _:\n",
        "    print(\"Operacion no valida.\")"
      ],
      "execution_count": 3,
      "outputs": [
        {
          "output_type": "stream",
          "name": "stdout",
          "text": [
            "introduzca el primer numero: 2\n",
            "introduzca el segundo numero: 4\n",
            "introduzca la operacion a realizar (*,/,+,-): *\n",
            "El resultado de la multiplicacion es: 8.0\n"
          ]
        }
      ]
    }
  ]
}