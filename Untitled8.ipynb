{
  "nbformat": 4,
  "nbformat_minor": 0,
  "metadata": {
    "colab": {
      "provenance": [],
      "authorship_tag": "ABX9TyMLWOfHbyXM8ObBnYS1yusd",
      "include_colab_link": true
    },
    "kernelspec": {
      "name": "python3",
      "display_name": "Python 3"
    },
    "language_info": {
      "name": "python"
    }
  },
  "cells": [
    {
      "cell_type": "markdown",
      "metadata": {
        "id": "view-in-github",
        "colab_type": "text"
      },
      "source": [
        "<a href=\"https://colab.research.google.com/github/sofiamiranda19/fundamentos-de-programacion/blob/main/Untitled8.ipynb\" target=\"_parent\"><img src=\"https://colab.research.google.com/assets/colab-badge.svg\" alt=\"Open In Colab\"/></a>"
      ]
    },
    {
      "cell_type": "code",
      "source": [
        "acum = 0\n",
        "for i in range(2, 10,1):\n",
        "    print(i)\n",
        "    acum= acum + i\n",
        "print(acum)\n",
        "print(\"la suma de todos los pares(acum)\")"
      ],
      "metadata": {
        "colab": {
          "base_uri": "https://localhost:8080/"
        },
        "id": "Jn6dNXIxChe4",
        "outputId": "ec567aba-4a7e-49ee-885c-0263e4204f81"
      },
      "execution_count": 5,
      "outputs": [
        {
          "output_type": "stream",
          "name": "stdout",
          "text": [
            "2\n",
            "4\n",
            "6\n",
            "8\n",
            "20\n",
            "la suma de todos los pares(acum)\n"
          ]
        }
      ]
    },
    {
      "cell_type": "code",
      "metadata": {
        "colab": {
          "base_uri": "https://localhost:8080/"
        },
        "id": "c5f650b1",
        "outputId": "f7569042-3633-44bb-f276-4ccb6aab7266"
      },
      "source": [
        "suma = 0\n",
        "for i in range(1, 11):\n",
        "  suma += i\n",
        "resultado = suma / 10\n",
        "print(f\"La suma de los números del 1 al 10 es: {suma}\")\n",
        "print(f\"El resultado de dividir la suma entre 10 es: {resultado}\")"
      ],
      "execution_count": 8,
      "outputs": [
        {
          "output_type": "stream",
          "name": "stdout",
          "text": [
            "La suma de los números del 1 al 10 es: 55\n",
            "El resultado de dividir la suma entre 10 es: 5.5\n"
          ]
        }
      ]
    }
  ]
}