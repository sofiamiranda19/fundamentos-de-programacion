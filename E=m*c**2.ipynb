{
  "nbformat": 4,
  "nbformat_minor": 0,
  "metadata": {
    "colab": {
      "provenance": [],
      "authorship_tag": "ABX9TyPq7CgGUK3hiuR7b5PBgyu9",
      "include_colab_link": true
    },
    "kernelspec": {
      "name": "python3",
      "display_name": "Python 3"
    },
    "language_info": {
      "name": "python"
    }
  },
  "cells": [
    {
      "cell_type": "markdown",
      "metadata": {
        "id": "view-in-github",
        "colab_type": "text"
      },
      "source": [
        "<a href=\"https://colab.research.google.com/github/sofiamiranda19/fundamentos-de-programacion/blob/main/E%3Dm*c**2.ipynb\" target=\"_parent\"><img src=\"https://colab.research.google.com/assets/colab-badge.svg\" alt=\"Open In Colab\"/></a>"
      ]
    },
    {
      "cell_type": "markdown",
      "source": [
        "fundamentos de programacion itslp sofia miranda blanco 1-08-2025 E=M*C*2\n",
        "PROGRAMA QUE CALCULA LA EQUIVALENCIA ENTRE MASA Y ENERGIA"
      ],
      "metadata": {
        "id": "JkOZHeINL0S6"
      }
    },
    {
      "cell_type": "markdown",
      "source": [
        "fundamentos de programacion itslp sofia miranda blanco 1-08-2025 E=M*C*2\n",
        "PROGRAMA QUE CALCULA LA EQUIVALENCIA ENTRE MASA Y ENERGIA"
      ],
      "metadata": {
        "id": "hWoR2JCPLt_w"
      }
    },
    {
      "cell_type": "code",
      "execution_count": null,
      "metadata": {
        "id": "OAevYLlZGumt"
      },
      "outputs": [],
      "source": []
    },
    {
      "cell_type": "markdown",
      "source": [
        "fundamentos de programacion itslp SOFIA MIRANDA BLANCO"
      ],
      "metadata": {
        "id": "MIEdKgJkHAdW"
      }
    },
    {
      "cell_type": "markdown",
      "source": [
        "fundamentos de programacion itslp sofia miranda blanco 1-08-2025 E=M*C*2\n",
        "PROGRAMA QUE CALCULA LA EQUIVALENCIA ENTRE MASA Y ENERGIA"
      ],
      "metadata": {
        "id": "2W5tDErfHaWu"
      }
    },
    {
      "cell_type": "code",
      "source": [
        "m = float(input(\"ingrese la masa en kg\"))\n",
        "c = float(input(\"ingrese la velocidad en m/s\"))\n",
        "E = m*c**2\n",
        "print(E)"
      ],
      "metadata": {
        "colab": {
          "base_uri": "https://localhost:8080/"
        },
        "id": "8n7txw09ILus",
        "outputId": "0574c183-5e2f-4372-e3c1-72bebc5322c2"
      },
      "execution_count": 3,
      "outputs": [
        {
          "output_type": "stream",
          "name": "stdout",
          "text": [
            "ingrese la masa en kg8\n",
            "ingrese la velocidad en m/s10\n",
            "800.0\n"
          ]
        }
      ]
    },
    {
      "cell_type": "markdown",
      "source": [],
      "metadata": {
        "id": "o1xddGiXIEN0"
      }
    },
    {
      "cell_type": "markdown",
      "source": [],
      "metadata": {
        "id": "mlUjKR8JHjH9"
      }
    },
    {
      "cell_type": "markdown",
      "source": [],
      "metadata": {
        "id": "4hKT4uiJHYG0"
      }
    }
  ]
}