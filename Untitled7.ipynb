{
  "nbformat": 4,
  "nbformat_minor": 0,
  "metadata": {
    "colab": {
      "provenance": [],
      "authorship_tag": "ABX9TyOj1tQUh4QEDgMAY7qBkh6C",
      "include_colab_link": true
    },
    "kernelspec": {
      "name": "python3",
      "display_name": "Python 3"
    },
    "language_info": {
      "name": "python"
    }
  },
  "cells": [
    {
      "cell_type": "markdown",
      "metadata": {
        "id": "view-in-github",
        "colab_type": "text"
      },
      "source": [
        "<a href=\"https://colab.research.google.com/github/sofiamiranda19/fundamentos-de-programacion/blob/main/Untitled7.ipynb\" target=\"_parent\"><img src=\"https://colab.research.google.com/assets/colab-badge.svg\" alt=\"Open In Colab\"/></a>"
      ]
    },
    {
      "cell_type": "code",
      "source": [
        "x = float(input(\"ingrese el valor de x\"))\n",
        "if cond x <=0\n",
        "print(\"el valor de x es negativo\")\n",
        "if cond x >0\n",
        "print(\"el valor de x es positivo\")\n",
        "if cond x ==0\n",
        "print(\"el valor de x es cero\")"
      ],
      "metadata": {
        "id": "U0GtiDj_DMVk"
      },
      "execution_count": null,
      "outputs": []
    }
  ]
}